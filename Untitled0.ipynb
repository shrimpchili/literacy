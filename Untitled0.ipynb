{
  "nbformat": 4,
  "nbformat_minor": 0,
  "metadata": {
    "colab": {
      "provenance": []
    },
    "kernelspec": {
      "name": "python3",
      "display_name": "Python 3"
    },
    "language_info": {
      "name": "python"
    }
  },
  "cells": [
    {
      "cell_type": "code",
      "execution_count": 2,
      "metadata": {
        "colab": {
          "base_uri": "https://localhost:8080/"
        },
        "id": "b-ckpdbm3a3V",
        "outputId": "3e9b789e-b88a-441d-8d66-c44b4707fe16"
      },
      "outputs": [
        {
          "output_type": "stream",
          "name": "stdout",
          "text": [
            "Writing report-secret\n"
          ]
        }
      ],
      "source": [
        "%%writefile report-secret"
      ]
    },
    {
      "cell_type": "code",
      "source": [
        "!echo \"25G3067\" > report"
      ],
      "metadata": {
        "id": "MGo6ItNf4Yl6"
      },
      "execution_count": 18,
      "outputs": []
    },
    {
      "cell_type": "code",
      "source": [
        "!cat report"
      ],
      "metadata": {
        "colab": {
          "base_uri": "https://localhost:8080/"
        },
        "id": "TazLECMf4j_A",
        "outputId": "325dfb1a-2f8e-43af-facb-180bf86cac5e"
      },
      "execution_count": 19,
      "outputs": [
        {
          "output_type": "stream",
          "name": "stdout",
          "text": [
            "25G3067\n"
          ]
        }
      ]
    },
    {
      "cell_type": "code",
      "source": [
        "!wget https://raw.githubusercontent.com/ybktr/literacy/main/yabuki-public.pem"
      ],
      "metadata": {
        "colab": {
          "base_uri": "https://localhost:8080/"
        },
        "id": "MAuRqCYM687o",
        "outputId": "5b7d0017-1a9e-4e14-e016-e2f60b5b7630"
      },
      "execution_count": 11,
      "outputs": [
        {
          "output_type": "stream",
          "name": "stdout",
          "text": [
            "--2025-06-17 08:05:33--  https://raw.githubusercontent.com/ybktr/literacy/main/yabuki-public.pem\n",
            "Resolving raw.githubusercontent.com (raw.githubusercontent.com)... 185.199.108.133, 185.199.109.133, 185.199.110.133, ...\n",
            "Connecting to raw.githubusercontent.com (raw.githubusercontent.com)|185.199.108.133|:443... connected.\n",
            "HTTP request sent, awaiting response... 200 OK\n",
            "Length: 272 [text/plain]\n",
            "Saving to: ‘yabuki-public.pem’\n",
            "\n",
            "\ryabuki-public.pem     0%[                    ]       0  --.-KB/s               \ryabuki-public.pem   100%[===================>]     272  --.-KB/s    in 0s      \n",
            "\n",
            "2025-06-17 08:05:33 (3.79 MB/s) - ‘yabuki-public.pem’ saved [272/272]\n",
            "\n"
          ]
        }
      ]
    },
    {
      "cell_type": "code",
      "source": [
        "!cat yabuki-public.pem"
      ],
      "metadata": {
        "colab": {
          "base_uri": "https://localhost:8080/"
        },
        "id": "S9ZXKh2O50vW",
        "outputId": "71a1dc22-db29-411f-f98a-dfc03a280c6c"
      },
      "execution_count": 12,
      "outputs": [
        {
          "output_type": "stream",
          "name": "stdout",
          "text": [
            "-----BEGIN PUBLIC KEY-----\n",
            "MIGfMA0GCSqGSIb3DQEBAQUAA4GNADCBiQKBgQDimIgZ1ESLwZr3XyzxmdxIGHLm\n",
            "yL/J4WHhRQoBBOf3iXiCzLeVxNjNDpMgfKCF0scgQaW72FAla2cEHSWOZ8FhL49B\n",
            "5QQKu8aELN3PmOGiJjm0hh+hOxsnCHNfvQsA2OpAvQofOv4rFQiUwVXg+tt2rdt6\n",
            "hjAJARM0apyRwOMIeQIDAQAB\n",
            "-----END PUBLIC KEY-----\n"
          ]
        }
      ]
    },
    {
      "cell_type": "code",
      "source": [
        "!cat yabuki-private.pem"
      ],
      "metadata": {
        "colab": {
          "base_uri": "https://localhost:8080/"
        },
        "id": "DN6I5yrU5_S-",
        "outputId": "7728ad8b-425b-4852-a600-cb8a8864dc52"
      },
      "execution_count": 13,
      "outputs": [
        {
          "output_type": "stream",
          "name": "stdout",
          "text": [
            "cat: yabuki-private.pem: No such file or directory\n"
          ]
        }
      ]
    },
    {
      "cell_type": "code",
      "source": [
        "!openssl pkeyutl -encrypt -pubin -inkey yabuki-public.pem -in report -out report-secret\n",
        "!cat report-secret"
      ],
      "metadata": {
        "colab": {
          "base_uri": "https://localhost:8080/"
        },
        "id": "iuOHoQUI6XxN",
        "outputId": "d9c3980a-b892-48bd-94de-6872733aae6b"
      },
      "execution_count": 21,
      "outputs": [
        {
          "output_type": "stream",
          "name": "stdout",
          "text": [
            "Xێ\u001f�沤}��Ut�$R�\u0000��&��X�\u0006��\b,:��4�6豱��KJ[���@~\u0000x-~~eU]I�$v�S�u��W:�K�1���%�\u0019�r�ཌྷ�ɝ(��,\u0000��Au�5KAS\u0019d����r<?L\u0003C\u0012\u0007��7Hk;'J5"
          ]
        }
      ]
    }
  ]
}